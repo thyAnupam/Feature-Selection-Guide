{
 "cells": [
  {
   "cell_type": "markdown",
   "id": "modified-attempt",
   "metadata": {
    "papermill": {
     "duration": 0.021483,
     "end_time": "2021-05-17T17:33:03.807719",
     "exception": false,
     "start_time": "2021-05-17T17:33:03.786236",
     "status": "completed"
    },
    "tags": []
   },
   "source": [
    "# Example 1 - A simple Sequential Forward Selection example\n",
    "Initializing a simple classifier from scikit-learn:"
   ]
  },
  {
   "cell_type": "code",
   "execution_count": 1,
   "id": "sporting-control",
   "metadata": {
    "execution": {
     "iopub.execute_input": "2021-05-17T17:33:03.853220Z",
     "iopub.status.busy": "2021-05-17T17:33:03.852594Z",
     "iopub.status.idle": "2021-05-17T17:33:05.174568Z",
     "shell.execute_reply": "2021-05-17T17:33:05.173799Z"
    },
    "papermill": {
     "duration": 1.345766,
     "end_time": "2021-05-17T17:33:05.174771",
     "exception": false,
     "start_time": "2021-05-17T17:33:03.829005",
     "status": "completed"
    },
    "tags": []
   },
   "outputs": [],
   "source": [
    "from sklearn.neighbors import KNeighborsClassifier\n",
    "from sklearn.datasets import load_iris\n",
    "\n",
    "iris = load_iris()\n",
    "X = iris.data\n",
    "y = iris.target\n",
    "knn = KNeighborsClassifier(n_neighbors=4)"
   ]
  },
  {
   "cell_type": "markdown",
   "id": "biblical-assignment",
   "metadata": {
    "papermill": {
     "duration": 0.020345,
     "end_time": "2021-05-17T17:33:05.215917",
     "exception": false,
     "start_time": "2021-05-17T17:33:05.195572",
     "status": "completed"
    },
    "tags": []
   },
   "source": [
    "We choose to select the best 3 features from the Iris dataset via Sequential Forward Selection (SFS). Here, we have valued forward with True and floating with False. As cv=0, any cross-validation had not been done, therefore, the performance (here: 'accuracy') is computed entirely on the training set."
   ]
  },
  {
   "cell_type": "code",
   "execution_count": 2,
   "id": "soviet-necessity",
   "metadata": {
    "execution": {
     "iopub.execute_input": "2021-05-17T17:33:05.263906Z",
     "iopub.status.busy": "2021-05-17T17:33:05.263088Z",
     "iopub.status.idle": "2021-05-17T17:33:05.357341Z",
     "shell.execute_reply": "2021-05-17T17:33:05.357885Z"
    },
    "papermill": {
     "duration": 0.12178,
     "end_time": "2021-05-17T17:33:05.358056",
     "exception": false,
     "start_time": "2021-05-17T17:33:05.236276",
     "status": "completed"
    },
    "tags": []
   },
   "outputs": [
    {
     "name": "stderr",
     "output_type": "stream",
     "text": [
      "[Parallel(n_jobs=1)]: Using backend SequentialBackend with 1 concurrent workers.\n",
      "[Parallel(n_jobs=1)]: Done   1 out of   1 | elapsed:    0.0s remaining:    0.0s\n",
      "[Parallel(n_jobs=1)]: Done   4 out of   4 | elapsed:    0.0s finished\n",
      "\n",
      "[2021-05-17 17:33:05] Features: 1/3 -- score: 0.96[Parallel(n_jobs=1)]: Using backend SequentialBackend with 1 concurrent workers.\n",
      "[Parallel(n_jobs=1)]: Done   1 out of   1 | elapsed:    0.0s remaining:    0.0s\n",
      "[Parallel(n_jobs=1)]: Done   3 out of   3 | elapsed:    0.0s finished\n",
      "\n",
      "[2021-05-17 17:33:05] Features: 2/3 -- score: 0.9733333333333334[Parallel(n_jobs=1)]: Using backend SequentialBackend with 1 concurrent workers.\n",
      "[Parallel(n_jobs=1)]: Done   1 out of   1 | elapsed:    0.0s remaining:    0.0s\n",
      "[Parallel(n_jobs=1)]: Done   2 out of   2 | elapsed:    0.0s finished\n",
      "\n",
      "[2021-05-17 17:33:05] Features: 3/3 -- score: 0.9733333333333334"
     ]
    }
   ],
   "source": [
    "from mlxtend.feature_selection import SequentialFeatureSelector as SFS\n",
    "\n",
    "sfs1 = SFS(knn, \n",
    "           k_features=3, \n",
    "           forward=True, \n",
    "           floating=False, \n",
    "           verbose=2,\n",
    "           scoring='accuracy',\n",
    "           cv=0)\n",
    "\n",
    "sfs1 = sfs1.fit(X, y)"
   ]
  },
  {
   "cell_type": "markdown",
   "id": "mexican-enterprise",
   "metadata": {
    "papermill": {
     "duration": 0.020903,
     "end_time": "2021-05-17T17:33:05.400429",
     "exception": false,
     "start_time": "2021-05-17T17:33:05.379526",
     "status": "completed"
    },
    "tags": []
   },
   "source": [
    "Via the subsets_ attribute, we can take a look at the selected feature indices at each step:"
   ]
  },
  {
   "cell_type": "code",
   "execution_count": 3,
   "id": "daily-carpet",
   "metadata": {
    "execution": {
     "iopub.execute_input": "2021-05-17T17:33:05.451746Z",
     "iopub.status.busy": "2021-05-17T17:33:05.451097Z",
     "iopub.status.idle": "2021-05-17T17:33:05.455686Z",
     "shell.execute_reply": "2021-05-17T17:33:05.455050Z"
    },
    "papermill": {
     "duration": 0.034077,
     "end_time": "2021-05-17T17:33:05.455821",
     "exception": false,
     "start_time": "2021-05-17T17:33:05.421744",
     "status": "completed"
    },
    "tags": []
   },
   "outputs": [
    {
     "data": {
      "text/plain": [
       "{1: {'feature_idx': (3,),\n",
       "  'cv_scores': array([0.96]),\n",
       "  'avg_score': 0.96,\n",
       "  'feature_names': ('3',)},\n",
       " 2: {'feature_idx': (2, 3),\n",
       "  'cv_scores': array([0.97333333]),\n",
       "  'avg_score': 0.9733333333333334,\n",
       "  'feature_names': ('2', '3')},\n",
       " 3: {'feature_idx': (1, 2, 3),\n",
       "  'cv_scores': array([0.97333333]),\n",
       "  'avg_score': 0.9733333333333334,\n",
       "  'feature_names': ('1', '2', '3')}}"
      ]
     },
     "execution_count": 3,
     "metadata": {},
     "output_type": "execute_result"
    }
   ],
   "source": [
    "sfs1.subsets_"
   ]
  },
  {
   "cell_type": "markdown",
   "id": "inappropriate-zoning",
   "metadata": {
    "papermill": {
     "duration": 0.02183,
     "end_time": "2021-05-17T17:33:05.499170",
     "exception": false,
     "start_time": "2021-05-17T17:33:05.477340",
     "status": "completed"
    },
    "tags": []
   },
   "source": [
    "here 'feature_names' entry is simply a string notation of the 'feature_idx' in this case.\n",
    "\n",
    "we can also provide custom feature names via the fit method's custom_feature_names parameter:"
   ]
  },
  {
   "cell_type": "code",
   "execution_count": 4,
   "id": "dramatic-blackberry",
   "metadata": {
    "execution": {
     "iopub.execute_input": "2021-05-17T17:33:05.548972Z",
     "iopub.status.busy": "2021-05-17T17:33:05.547961Z",
     "iopub.status.idle": "2021-05-17T17:33:05.623945Z",
     "shell.execute_reply": "2021-05-17T17:33:05.623328Z"
    },
    "papermill": {
     "duration": 0.103056,
     "end_time": "2021-05-17T17:33:05.624091",
     "exception": false,
     "start_time": "2021-05-17T17:33:05.521035",
     "status": "completed"
    },
    "tags": []
   },
   "outputs": [
    {
     "name": "stderr",
     "output_type": "stream",
     "text": [
      "[Parallel(n_jobs=1)]: Using backend SequentialBackend with 1 concurrent workers.\n",
      "[Parallel(n_jobs=1)]: Done   1 out of   1 | elapsed:    0.0s remaining:    0.0s\n",
      "[Parallel(n_jobs=1)]: Done   4 out of   4 | elapsed:    0.0s finished\n",
      "\n",
      "[2021-05-17 17:33:05] Features: 1/3 -- score: 0.96[Parallel(n_jobs=1)]: Using backend SequentialBackend with 1 concurrent workers.\n",
      "[Parallel(n_jobs=1)]: Done   1 out of   1 | elapsed:    0.0s remaining:    0.0s\n",
      "[Parallel(n_jobs=1)]: Done   3 out of   3 | elapsed:    0.0s finished\n",
      "\n",
      "[2021-05-17 17:33:05] Features: 2/3 -- score: 0.9733333333333334[Parallel(n_jobs=1)]: Using backend SequentialBackend with 1 concurrent workers.\n",
      "[Parallel(n_jobs=1)]: Done   1 out of   1 | elapsed:    0.0s remaining:    0.0s\n",
      "[Parallel(n_jobs=1)]: Done   2 out of   2 | elapsed:    0.0s finished\n",
      "\n",
      "[2021-05-17 17:33:05] Features: 3/3 -- score: 0.9733333333333334"
     ]
    },
    {
     "data": {
      "text/plain": [
       "{1: {'feature_idx': (3,),\n",
       "  'cv_scores': array([0.96]),\n",
       "  'avg_score': 0.96,\n",
       "  'feature_names': ('petal width',)},\n",
       " 2: {'feature_idx': (2, 3),\n",
       "  'cv_scores': array([0.97333333]),\n",
       "  'avg_score': 0.9733333333333334,\n",
       "  'feature_names': ('petal length', 'petal width')},\n",
       " 3: {'feature_idx': (1, 2, 3),\n",
       "  'cv_scores': array([0.97333333]),\n",
       "  'avg_score': 0.9733333333333334,\n",
       "  'feature_names': ('sepal width', 'petal length', 'petal width')}}"
      ]
     },
     "execution_count": 4,
     "metadata": {},
     "output_type": "execute_result"
    }
   ],
   "source": [
    "feature_names = ('sepal length', 'sepal width', 'petal length', 'petal width')\n",
    "sfs1 = sfs1.fit(X, y, custom_feature_names=feature_names)\n",
    "sfs1.subsets_"
   ]
  },
  {
   "cell_type": "markdown",
   "id": "harmful-henry",
   "metadata": {
    "papermill": {
     "duration": 0.022366,
     "end_time": "2021-05-17T17:33:05.669382",
     "exception": false,
     "start_time": "2021-05-17T17:33:05.647016",
     "status": "completed"
    },
    "tags": []
   },
   "source": [
    "Furthermore, we can access the indices of the 3 best features directly via the k_feature_idx_ attribute:"
   ]
  },
  {
   "cell_type": "code",
   "execution_count": 5,
   "id": "prostate-series",
   "metadata": {
    "execution": {
     "iopub.execute_input": "2021-05-17T17:33:05.719350Z",
     "iopub.status.busy": "2021-05-17T17:33:05.718754Z",
     "iopub.status.idle": "2021-05-17T17:33:05.722483Z",
     "shell.execute_reply": "2021-05-17T17:33:05.721878Z"
    },
    "papermill": {
     "duration": 0.030652,
     "end_time": "2021-05-17T17:33:05.722620",
     "exception": false,
     "start_time": "2021-05-17T17:33:05.691968",
     "status": "completed"
    },
    "tags": []
   },
   "outputs": [
    {
     "data": {
      "text/plain": [
       "(1, 2, 3)"
      ]
     },
     "execution_count": 5,
     "metadata": {},
     "output_type": "execute_result"
    }
   ],
   "source": [
    "sfs1.k_feature_idx_"
   ]
  },
  {
   "cell_type": "markdown",
   "id": "awful-insider",
   "metadata": {
    "papermill": {
     "duration": 0.029274,
     "end_time": "2021-05-17T17:33:05.775708",
     "exception": false,
     "start_time": "2021-05-17T17:33:05.746434",
     "status": "completed"
    },
    "tags": []
   },
   "source": [
    "And similarly, to obtain the names of these features, given that we provided an argument to the custom_feature_names parameter, we can refer to the sfs1.k_feature_names_ attribute:"
   ]
  },
  {
   "cell_type": "code",
   "execution_count": 6,
   "id": "continental-worker",
   "metadata": {
    "execution": {
     "iopub.execute_input": "2021-05-17T17:33:05.826779Z",
     "iopub.status.busy": "2021-05-17T17:33:05.826073Z",
     "iopub.status.idle": "2021-05-17T17:33:05.830816Z",
     "shell.execute_reply": "2021-05-17T17:33:05.830236Z"
    },
    "papermill": {
     "duration": 0.032348,
     "end_time": "2021-05-17T17:33:05.830966",
     "exception": false,
     "start_time": "2021-05-17T17:33:05.798618",
     "status": "completed"
    },
    "tags": []
   },
   "outputs": [
    {
     "data": {
      "text/plain": [
       "('sepal width', 'petal length', 'petal width')"
      ]
     },
     "execution_count": 6,
     "metadata": {},
     "output_type": "execute_result"
    }
   ],
   "source": [
    "sfs1.k_feature_names_"
   ]
  },
  {
   "cell_type": "markdown",
   "id": "ordered-square",
   "metadata": {
    "papermill": {
     "duration": 0.023075,
     "end_time": "2021-05-17T17:33:05.877780",
     "exception": false,
     "start_time": "2021-05-17T17:33:05.854705",
     "status": "completed"
    },
    "tags": []
   },
   "source": [
    "**k_score_** is used to show the prediction score of features"
   ]
  },
  {
   "cell_type": "code",
   "execution_count": 7,
   "id": "crude-infrared",
   "metadata": {
    "execution": {
     "iopub.execute_input": "2021-05-17T17:33:05.930766Z",
     "iopub.status.busy": "2021-05-17T17:33:05.929734Z",
     "iopub.status.idle": "2021-05-17T17:33:05.933716Z",
     "shell.execute_reply": "2021-05-17T17:33:05.934175Z"
    },
    "papermill": {
     "duration": 0.032542,
     "end_time": "2021-05-17T17:33:05.934339",
     "exception": false,
     "start_time": "2021-05-17T17:33:05.901797",
     "status": "completed"
    },
    "tags": []
   },
   "outputs": [
    {
     "data": {
      "text/plain": [
       "0.9733333333333334"
      ]
     },
     "execution_count": 7,
     "metadata": {},
     "output_type": "execute_result"
    }
   ],
   "source": [
    "sfs1.k_score_"
   ]
  },
  {
   "cell_type": "markdown",
   "id": "undefined-volunteer",
   "metadata": {
    "papermill": {
     "duration": 0.023465,
     "end_time": "2021-05-17T17:33:05.981730",
     "exception": false,
     "start_time": "2021-05-17T17:33:05.958265",
     "status": "completed"
    },
    "tags": []
   },
   "source": [
    "# Example 2 - Toggling between SFS, SBS, SFFS, and SBFS"
   ]
  },
  {
   "cell_type": "markdown",
   "id": "grave-homeless",
   "metadata": {
    "papermill": {
     "duration": 0.023684,
     "end_time": "2021-05-17T17:33:06.029052",
     "exception": false,
     "start_time": "2021-05-17T17:33:06.005368",
     "status": "completed"
    },
    "tags": []
   },
   "source": [
    "**forward** and **floating** parameters are used to toggle between **SFS, SBS, SFFS, and SBFS** as shown below. here, we are performing (stratified) 4-fold cross-validation for more robust estimates in contrast to Example 1. Via n_jobs=-1, we choose to run the cross-validation on all our available CPU cores."
   ]
  },
  {
   "cell_type": "code",
   "execution_count": 8,
   "id": "scheduled-madison",
   "metadata": {
    "execution": {
     "iopub.execute_input": "2021-05-17T17:33:06.088436Z",
     "iopub.status.busy": "2021-05-17T17:33:06.087766Z",
     "iopub.status.idle": "2021-05-17T17:33:08.047620Z",
     "shell.execute_reply": "2021-05-17T17:33:08.046781Z"
    },
    "papermill": {
     "duration": 1.995014,
     "end_time": "2021-05-17T17:33:08.047816",
     "exception": false,
     "start_time": "2021-05-17T17:33:06.052802",
     "status": "completed"
    },
    "tags": []
   },
   "outputs": [
    {
     "name": "stdout",
     "output_type": "stream",
     "text": [
      "\n",
      "Sequential Forward Selection (k=3):\n",
      "(1, 2, 3)\n",
      "CV Score:\n",
      "0.9731507823613088\n",
      "\n",
      "Sequential Backward Selection (k=3):\n",
      "(1, 2, 3)\n",
      "CV Score:\n",
      "0.9731507823613088\n",
      "\n",
      "Sequential Forward Floating Selection (k=3):\n",
      "(1, 2, 3)\n",
      "CV Score:\n",
      "0.9731507823613088\n",
      "\n",
      "Sequential Backward Floating Selection (k=3):\n",
      "(1, 2, 3)\n",
      "CV Score:\n",
      "0.9731507823613088\n"
     ]
    }
   ],
   "source": [
    "# Sequential Forward Selection\n",
    "sfs = SFS(knn, \n",
    "          k_features=3, \n",
    "          forward=True, \n",
    "          floating=False, \n",
    "          scoring='accuracy',\n",
    "          cv=4,\n",
    "          n_jobs=-1)\n",
    "sfs = sfs.fit(X, y)\n",
    "\n",
    "print('\\nSequential Forward Selection (k=3):')\n",
    "print(sfs.k_feature_idx_)\n",
    "print('CV Score:')\n",
    "print(sfs.k_score_)\n",
    "\n",
    "###################################################\n",
    "\n",
    "# Sequential Backward Selection\n",
    "sbs = SFS(knn, \n",
    "          k_features=3, \n",
    "          forward=False, \n",
    "          floating=False, \n",
    "          scoring='accuracy',\n",
    "          cv=4,\n",
    "          n_jobs=-1)\n",
    "sbs = sbs.fit(X, y)\n",
    "\n",
    "print('\\nSequential Backward Selection (k=3):')\n",
    "print(sbs.k_feature_idx_)\n",
    "print('CV Score:')\n",
    "print(sbs.k_score_)\n",
    "\n",
    "###################################################\n",
    "\n",
    "# Sequential Forward Floating Selection\n",
    "sffs = SFS(knn, \n",
    "           k_features=3, \n",
    "           forward=True, \n",
    "           floating=True, \n",
    "           scoring='accuracy',\n",
    "           cv=4,\n",
    "           n_jobs=-1)\n",
    "sffs = sffs.fit(X, y)\n",
    "\n",
    "print('\\nSequential Forward Floating Selection (k=3):')\n",
    "print(sffs.k_feature_idx_)\n",
    "print('CV Score:')\n",
    "print(sffs.k_score_)\n",
    "\n",
    "###################################################\n",
    "\n",
    "# Sequential Backward Floating Selection\n",
    "sbfs = SFS(knn, \n",
    "           k_features=3, \n",
    "           forward=False, \n",
    "           floating=True, \n",
    "           scoring='accuracy',\n",
    "           cv=4,\n",
    "           n_jobs=-1)\n",
    "sbfs = sbfs.fit(X, y)\n",
    "\n",
    "print('\\nSequential Backward Floating Selection (k=3):')\n",
    "print(sbfs.k_feature_idx_)\n",
    "print('CV Score:')\n",
    "print(sbfs.k_score_)"
   ]
  },
  {
   "cell_type": "markdown",
   "id": "formed-webcam",
   "metadata": {
    "papermill": {
     "duration": 0.024568,
     "end_time": "2021-05-17T17:33:08.097979",
     "exception": false,
     "start_time": "2021-05-17T17:33:08.073411",
     "status": "completed"
    },
    "tags": []
   },
   "source": [
    "Here, we get similar results regardless of the algorithms used. Because we selected best 3 out of 4"
   ]
  },
  {
   "cell_type": "markdown",
   "id": "killing-conditions",
   "metadata": {
    "papermill": {
     "duration": 0.02425,
     "end_time": "2021-05-17T17:33:08.146765",
     "exception": false,
     "start_time": "2021-05-17T17:33:08.122515",
     "status": "completed"
    },
    "tags": []
   },
   "source": [
    "# Example 3 - Visualizing the results in DataFrames"
   ]
  },
  {
   "cell_type": "markdown",
   "id": "informal-wagner",
   "metadata": {
    "papermill": {
     "duration": 0.024319,
     "end_time": "2021-05-17T17:33:08.195599",
     "exception": false,
     "start_time": "2021-05-17T17:33:08.171280",
     "status": "completed"
    },
    "tags": []
   },
   "source": [
    "We can visualize the output from the feature selection in a pandas DataFrame format using the get_metric_dict method of the SequentialFeatureSelector object. Standard deviation and standard errors of the cross-validation scores can be seen in the columns std_dev and std_err.\n",
    "\n",
    "Below, we see the DataFrame of the Sequential Forward Selector from Example 2:"
   ]
  },
  {
   "cell_type": "code",
   "execution_count": 9,
   "id": "confirmed-attribute",
   "metadata": {
    "execution": {
     "iopub.execute_input": "2021-05-17T17:33:08.265183Z",
     "iopub.status.busy": "2021-05-17T17:33:08.264267Z",
     "iopub.status.idle": "2021-05-17T17:33:08.285241Z",
     "shell.execute_reply": "2021-05-17T17:33:08.284571Z"
    },
    "papermill": {
     "duration": 0.06523,
     "end_time": "2021-05-17T17:33:08.285374",
     "exception": false,
     "start_time": "2021-05-17T17:33:08.220144",
     "status": "completed"
    },
    "tags": []
   },
   "outputs": [
    {
     "data": {
      "text/html": [
       "<div>\n",
       "<style scoped>\n",
       "    .dataframe tbody tr th:only-of-type {\n",
       "        vertical-align: middle;\n",
       "    }\n",
       "\n",
       "    .dataframe tbody tr th {\n",
       "        vertical-align: top;\n",
       "    }\n",
       "\n",
       "    .dataframe thead th {\n",
       "        text-align: right;\n",
       "    }\n",
       "</style>\n",
       "<table border=\"1\" class=\"dataframe\">\n",
       "  <thead>\n",
       "    <tr style=\"text-align: right;\">\n",
       "      <th></th>\n",
       "      <th>feature_idx</th>\n",
       "      <th>cv_scores</th>\n",
       "      <th>avg_score</th>\n",
       "      <th>feature_names</th>\n",
       "      <th>ci_bound</th>\n",
       "      <th>std_dev</th>\n",
       "      <th>std_err</th>\n",
       "    </tr>\n",
       "  </thead>\n",
       "  <tbody>\n",
       "    <tr>\n",
       "      <th>1</th>\n",
       "      <td>(3,)</td>\n",
       "      <td>[0.9736842105263158, 0.9473684210526315, 0.891...</td>\n",
       "      <td>0.953236</td>\n",
       "      <td>(3,)</td>\n",
       "      <td>0.064132</td>\n",
       "      <td>0.040008</td>\n",
       "      <td>0.023099</td>\n",
       "    </tr>\n",
       "    <tr>\n",
       "      <th>2</th>\n",
       "      <td>(2, 3)</td>\n",
       "      <td>[0.9736842105263158, 0.9473684210526315, 0.918...</td>\n",
       "      <td>0.959993</td>\n",
       "      <td>(2, 3)</td>\n",
       "      <td>0.048319</td>\n",
       "      <td>0.030143</td>\n",
       "      <td>0.017403</td>\n",
       "    </tr>\n",
       "    <tr>\n",
       "      <th>3</th>\n",
       "      <td>(1, 2, 3)</td>\n",
       "      <td>[0.9736842105263158, 1.0, 0.9459459459459459, ...</td>\n",
       "      <td>0.973151</td>\n",
       "      <td>(1, 2, 3)</td>\n",
       "      <td>0.030639</td>\n",
       "      <td>0.019113</td>\n",
       "      <td>0.011035</td>\n",
       "    </tr>\n",
       "  </tbody>\n",
       "</table>\n",
       "</div>"
      ],
      "text/plain": [
       "  feature_idx                                          cv_scores avg_score  \\\n",
       "1        (3,)  [0.9736842105263158, 0.9473684210526315, 0.891...  0.953236   \n",
       "2      (2, 3)  [0.9736842105263158, 0.9473684210526315, 0.918...  0.959993   \n",
       "3   (1, 2, 3)  [0.9736842105263158, 1.0, 0.9459459459459459, ...  0.973151   \n",
       "\n",
       "  feature_names  ci_bound   std_dev   std_err  \n",
       "1          (3,)  0.064132  0.040008  0.023099  \n",
       "2        (2, 3)  0.048319  0.030143  0.017403  \n",
       "3     (1, 2, 3)  0.030639  0.019113  0.011035  "
      ]
     },
     "execution_count": 9,
     "metadata": {},
     "output_type": "execute_result"
    }
   ],
   "source": [
    "import pandas as pd\n",
    "pd.DataFrame.from_dict(sfs.get_metric_dict()).T"
   ]
  },
  {
   "cell_type": "markdown",
   "id": "appropriate-tucson",
   "metadata": {
    "papermill": {
     "duration": 0.02495,
     "end_time": "2021-05-17T17:33:08.335399",
     "exception": false,
     "start_time": "2021-05-17T17:33:08.310449",
     "status": "completed"
    },
    "tags": []
   },
   "source": [
    "Now, let's compare it to the Sequential Backward Selector:"
   ]
  },
  {
   "cell_type": "code",
   "execution_count": 10,
   "id": "consistent-geometry",
   "metadata": {
    "execution": {
     "iopub.execute_input": "2021-05-17T17:33:08.403663Z",
     "iopub.status.busy": "2021-05-17T17:33:08.402707Z",
     "iopub.status.idle": "2021-05-17T17:33:08.407087Z",
     "shell.execute_reply": "2021-05-17T17:33:08.406443Z"
    },
    "papermill": {
     "duration": 0.046547,
     "end_time": "2021-05-17T17:33:08.407220",
     "exception": false,
     "start_time": "2021-05-17T17:33:08.360673",
     "status": "completed"
    },
    "tags": []
   },
   "outputs": [
    {
     "data": {
      "text/html": [
       "<div>\n",
       "<style scoped>\n",
       "    .dataframe tbody tr th:only-of-type {\n",
       "        vertical-align: middle;\n",
       "    }\n",
       "\n",
       "    .dataframe tbody tr th {\n",
       "        vertical-align: top;\n",
       "    }\n",
       "\n",
       "    .dataframe thead th {\n",
       "        text-align: right;\n",
       "    }\n",
       "</style>\n",
       "<table border=\"1\" class=\"dataframe\">\n",
       "  <thead>\n",
       "    <tr style=\"text-align: right;\">\n",
       "      <th></th>\n",
       "      <th>feature_idx</th>\n",
       "      <th>cv_scores</th>\n",
       "      <th>avg_score</th>\n",
       "      <th>feature_names</th>\n",
       "      <th>ci_bound</th>\n",
       "      <th>std_dev</th>\n",
       "      <th>std_err</th>\n",
       "    </tr>\n",
       "  </thead>\n",
       "  <tbody>\n",
       "    <tr>\n",
       "      <th>4</th>\n",
       "      <td>(0, 1, 2, 3)</td>\n",
       "      <td>[0.9736842105263158, 0.9473684210526315, 0.918...</td>\n",
       "      <td>0.953236</td>\n",
       "      <td>(0, 1, 2, 3)</td>\n",
       "      <td>0.03602</td>\n",
       "      <td>0.022471</td>\n",
       "      <td>0.012974</td>\n",
       "    </tr>\n",
       "    <tr>\n",
       "      <th>3</th>\n",
       "      <td>(1, 2, 3)</td>\n",
       "      <td>[0.9736842105263158, 1.0, 0.9459459459459459, ...</td>\n",
       "      <td>0.973151</td>\n",
       "      <td>(1, 2, 3)</td>\n",
       "      <td>0.030639</td>\n",
       "      <td>0.019113</td>\n",
       "      <td>0.011035</td>\n",
       "    </tr>\n",
       "  </tbody>\n",
       "</table>\n",
       "</div>"
      ],
      "text/plain": [
       "    feature_idx                                          cv_scores avg_score  \\\n",
       "4  (0, 1, 2, 3)  [0.9736842105263158, 0.9473684210526315, 0.918...  0.953236   \n",
       "3     (1, 2, 3)  [0.9736842105263158, 1.0, 0.9459459459459459, ...  0.973151   \n",
       "\n",
       "  feature_names  ci_bound   std_dev   std_err  \n",
       "4  (0, 1, 2, 3)   0.03602  0.022471  0.012974  \n",
       "3     (1, 2, 3)  0.030639  0.019113  0.011035  "
      ]
     },
     "execution_count": 10,
     "metadata": {},
     "output_type": "execute_result"
    }
   ],
   "source": [
    "pd.DataFrame.from_dict(sbs.get_metric_dict()).T"
   ]
  },
  {
   "cell_type": "markdown",
   "id": "statistical-absolute",
   "metadata": {
    "papermill": {
     "duration": 0.025902,
     "end_time": "2021-05-17T17:33:08.458877",
     "exception": false,
     "start_time": "2021-05-17T17:33:08.432975",
     "status": "completed"
    },
    "tags": []
   },
   "source": [
    "Both SFS and SBFS found the same \"best\" 3 features, however, the intermediate steps where obviously different.\n",
    "\n",
    "The ci_bound column in the DataFrames above represents the confidence interval around the computed cross-validation scores. By default, a confidence interval of 95% is used, but we can use different confidence bounds via the confidence_interval parameter. E.g., the confidence bounds for a 90% confidence interval can be obtained as follows:"
   ]
  },
  {
   "cell_type": "code",
   "execution_count": 11,
   "id": "known-knowing",
   "metadata": {
    "execution": {
     "iopub.execute_input": "2021-05-17T17:33:08.528862Z",
     "iopub.status.busy": "2021-05-17T17:33:08.528211Z",
     "iopub.status.idle": "2021-05-17T17:33:08.534047Z",
     "shell.execute_reply": "2021-05-17T17:33:08.533521Z"
    },
    "papermill": {
     "duration": 0.048054,
     "end_time": "2021-05-17T17:33:08.534188",
     "exception": false,
     "start_time": "2021-05-17T17:33:08.486134",
     "status": "completed"
    },
    "tags": []
   },
   "outputs": [
    {
     "data": {
      "text/html": [
       "<div>\n",
       "<style scoped>\n",
       "    .dataframe tbody tr th:only-of-type {\n",
       "        vertical-align: middle;\n",
       "    }\n",
       "\n",
       "    .dataframe tbody tr th {\n",
       "        vertical-align: top;\n",
       "    }\n",
       "\n",
       "    .dataframe thead th {\n",
       "        text-align: right;\n",
       "    }\n",
       "</style>\n",
       "<table border=\"1\" class=\"dataframe\">\n",
       "  <thead>\n",
       "    <tr style=\"text-align: right;\">\n",
       "      <th></th>\n",
       "      <th>feature_idx</th>\n",
       "      <th>cv_scores</th>\n",
       "      <th>avg_score</th>\n",
       "      <th>feature_names</th>\n",
       "      <th>ci_bound</th>\n",
       "      <th>std_dev</th>\n",
       "      <th>std_err</th>\n",
       "    </tr>\n",
       "  </thead>\n",
       "  <tbody>\n",
       "    <tr>\n",
       "      <th>4</th>\n",
       "      <td>(0, 1, 2, 3)</td>\n",
       "      <td>[0.9736842105263158, 0.9473684210526315, 0.918...</td>\n",
       "      <td>0.953236</td>\n",
       "      <td>(0, 1, 2, 3)</td>\n",
       "      <td>0.027658</td>\n",
       "      <td>0.022471</td>\n",
       "      <td>0.012974</td>\n",
       "    </tr>\n",
       "    <tr>\n",
       "      <th>3</th>\n",
       "      <td>(1, 2, 3)</td>\n",
       "      <td>[0.9736842105263158, 1.0, 0.9459459459459459, ...</td>\n",
       "      <td>0.973151</td>\n",
       "      <td>(1, 2, 3)</td>\n",
       "      <td>0.023525</td>\n",
       "      <td>0.019113</td>\n",
       "      <td>0.011035</td>\n",
       "    </tr>\n",
       "  </tbody>\n",
       "</table>\n",
       "</div>"
      ],
      "text/plain": [
       "    feature_idx                                          cv_scores avg_score  \\\n",
       "4  (0, 1, 2, 3)  [0.9736842105263158, 0.9473684210526315, 0.918...  0.953236   \n",
       "3     (1, 2, 3)  [0.9736842105263158, 1.0, 0.9459459459459459, ...  0.973151   \n",
       "\n",
       "  feature_names  ci_bound   std_dev   std_err  \n",
       "4  (0, 1, 2, 3)  0.027658  0.022471  0.012974  \n",
       "3     (1, 2, 3)  0.023525  0.019113  0.011035  "
      ]
     },
     "execution_count": 11,
     "metadata": {},
     "output_type": "execute_result"
    }
   ],
   "source": [
    "pd.DataFrame.from_dict(sbs.get_metric_dict(confidence_interval=0.90)).T"
   ]
  },
  {
   "cell_type": "markdown",
   "id": "greatest-margin",
   "metadata": {
    "papermill": {
     "duration": 0.031871,
     "end_time": "2021-05-17T17:33:08.593097",
     "exception": false,
     "start_time": "2021-05-17T17:33:08.561226",
     "status": "completed"
    },
    "tags": []
   },
   "source": [
    "# Example 4 - Plotting the results\n",
    "Using plot_sequential_feature_selection, we can also visualize the results using matplotlib figures."
   ]
  },
  {
   "cell_type": "code",
   "execution_count": 12,
   "id": "checked-hollow",
   "metadata": {
    "execution": {
     "iopub.execute_input": "2021-05-17T17:33:08.670877Z",
     "iopub.status.busy": "2021-05-17T17:33:08.670176Z",
     "iopub.status.idle": "2021-05-17T17:33:09.045838Z",
     "shell.execute_reply": "2021-05-17T17:33:09.045299Z"
    },
    "papermill": {
     "duration": 0.416699,
     "end_time": "2021-05-17T17:33:09.045975",
     "exception": false,
     "start_time": "2021-05-17T17:33:08.629276",
     "status": "completed"
    },
    "tags": []
   },
   "outputs": [
    {
     "name": "stderr",
     "output_type": "stream",
     "text": [
      "[Parallel(n_jobs=1)]: Using backend SequentialBackend with 1 concurrent workers.\n",
      "[Parallel(n_jobs=1)]: Done   1 out of   1 | elapsed:    0.0s remaining:    0.0s\n",
      "[Parallel(n_jobs=1)]: Done   4 out of   4 | elapsed:    0.1s finished\n",
      "\n",
      "[2021-05-17 17:33:08] Features: 1/4 -- score: 0.96[Parallel(n_jobs=1)]: Using backend SequentialBackend with 1 concurrent workers.\n",
      "[Parallel(n_jobs=1)]: Done   1 out of   1 | elapsed:    0.0s remaining:    0.0s\n",
      "[Parallel(n_jobs=1)]: Done   3 out of   3 | elapsed:    0.0s finished\n",
      "\n",
      "[2021-05-17 17:33:08] Features: 2/4 -- score: 0.9666666666666668[Parallel(n_jobs=1)]: Using backend SequentialBackend with 1 concurrent workers.\n",
      "[Parallel(n_jobs=1)]: Done   1 out of   1 | elapsed:    0.0s remaining:    0.0s\n",
      "[Parallel(n_jobs=1)]: Done   2 out of   2 | elapsed:    0.0s finished\n",
      "\n",
      "[2021-05-17 17:33:08] Features: 3/4 -- score: 0.9533333333333334[Parallel(n_jobs=1)]: Using backend SequentialBackend with 1 concurrent workers.\n",
      "[Parallel(n_jobs=1)]: Done   1 out of   1 | elapsed:    0.0s remaining:    0.0s\n",
      "[Parallel(n_jobs=1)]: Done   1 out of   1 | elapsed:    0.0s finished\n",
      "\n",
      "[2021-05-17 17:33:08] Features: 4/4 -- score: 0.9733333333333334"
     ]
    },
    {
     "data": {
      "image/png": "[encoded data removed]",
      "text/plain": [
       "<Figure size 432x288 with 1 Axes>"
      ]
     },
     "metadata": {
      "needs_background": "light"
     },
     "output_type": "display_data"
    }
   ],
   "source": [
    "from mlxtend.plotting import plot_sequential_feature_selection as plot_sfs\n",
    "import matplotlib.pyplot as plt\n",
    "\n",
    "sfs = SFS(knn, \n",
    "          k_features=4, \n",
    "          forward=True, \n",
    "          floating=False, \n",
    "          scoring='accuracy',\n",
    "          verbose=2,\n",
    "          cv=5)\n",
    "\n",
    "sfs = sfs.fit(X, y)\n",
    "\n",
    "fig1 = plot_sfs(sfs.get_metric_dict(), kind='std_dev')\n",
    "\n",
    "plt.ylim([0.8, 1])\n",
    "plt.title('Sequential Forward Selection (w. StdDev)')\n",
    "plt.grid()\n",
    "plt.show()"
   ]
  },
  {
   "cell_type": "markdown",
   "id": "verified-thailand",
   "metadata": {
    "papermill": {
     "duration": 0.027441,
     "end_time": "2021-05-17T17:33:09.101321",
     "exception": false,
     "start_time": "2021-05-17T17:33:09.073880",
     "status": "completed"
    },
    "tags": []
   },
   "source": [
    "# Example 5 - Sequential Feature Selection for Regression\n",
    "SequentialFeatureSelector also supports scikit-learn's estimators for regression like other classifiaction examples."
   ]
  },
  {
   "cell_type": "code",
   "execution_count": 13,
   "id": "offshore-summary",
   "metadata": {
    "execution": {
     "iopub.execute_input": "2021-05-17T17:33:09.163341Z",
     "iopub.status.busy": "2021-05-17T17:33:09.162626Z",
     "iopub.status.idle": "2021-05-17T17:33:10.561060Z",
     "shell.execute_reply": "2021-05-17T17:33:10.560482Z"
    },
    "papermill": {
     "duration": 1.432454,
     "end_time": "2021-05-17T17:33:10.561198",
     "exception": false,
     "start_time": "2021-05-17T17:33:09.128744",
     "status": "completed"
    },
    "tags": []
   },
   "outputs": [
    {
     "data": {
      "image/png": "[encoded data removed]",
      "text/plain": [
       "<Figure size 432x288 with 1 Axes>"
      ]
     },
     "metadata": {
      "needs_background": "light"
     },
     "output_type": "display_data"
    }
   ],
   "source": [
    "from sklearn.linear_model import LinearRegression\n",
    "from sklearn.datasets import load_boston\n",
    "\n",
    "boston = load_boston()\n",
    "X, y = boston.data, boston.target\n",
    "\n",
    "lr = LinearRegression()\n",
    "\n",
    "sfs = SFS(lr, \n",
    "          k_features=13, \n",
    "          forward=True, \n",
    "          floating=False, \n",
    "          scoring='neg_mean_squared_error',\n",
    "          cv=10)\n",
    "\n",
    "sfs = sfs.fit(X, y)\n",
    "fig = plot_sfs(sfs.get_metric_dict(), kind='std_err')\n",
    "\n",
    "plt.title('Sequential Forward Selection (w. StdErr)')\n",
    "plt.grid()\n",
    "plt.show()"
   ]
  },
  {
   "cell_type": "markdown",
   "id": "deluxe-satisfaction",
   "metadata": {
    "papermill": {
     "duration": 0.028565,
     "end_time": "2021-05-17T17:33:10.619040",
     "exception": false,
     "start_time": "2021-05-17T17:33:10.590475",
     "status": "completed"
    },
    "tags": []
   },
   "source": [
    "# Example 6 - Feature Selection with Fixed Train/Validation Splits\n",
    "Voluntarily, you can use PredefinedHoldoutSplit class to specify your own, fixed training and validation split."
   ]
  },
  {
   "cell_type": "code",
   "execution_count": 14,
   "id": "respective-glass",
   "metadata": {
    "execution": {
     "iopub.execute_input": "2021-05-17T17:33:10.682718Z",
     "iopub.status.busy": "2021-05-17T17:33:10.681956Z",
     "iopub.status.idle": "2021-05-17T17:33:10.742585Z",
     "shell.execute_reply": "2021-05-17T17:33:10.742049Z"
    },
    "papermill": {
     "duration": 0.094988,
     "end_time": "2021-05-17T17:33:10.742744",
     "exception": false,
     "start_time": "2021-05-17T17:33:10.647756",
     "status": "completed"
    },
    "tags": []
   },
   "outputs": [
    {
     "name": "stdout",
     "output_type": "stream",
     "text": [
      "[ 72 112 132  88  37 138  87  42   8  90 141  33  59 116 135 104  36  13\n",
      "  63  45  28 133  24 127  46  20  31 121 117   4]\n"
     ]
    }
   ],
   "source": [
    "from sklearn.datasets import load_iris\n",
    "from mlxtend.evaluate import PredefinedHoldoutSplit\n",
    "import numpy as np\n",
    "\n",
    "\n",
    "iris = load_iris()\n",
    "X = iris.data\n",
    "y = iris.target\n",
    "\n",
    "rng = np.random.RandomState(123)\n",
    "my_validation_indices = rng.permutation(np.arange(150))[:30]\n",
    "print(my_validation_indices)\n"
   ]
  },
  {
   "cell_type": "code",
   "execution_count": 15,
   "id": "convenient-bacon",
   "metadata": {
    "execution": {
     "iopub.execute_input": "2021-05-17T17:33:10.812108Z",
     "iopub.status.busy": "2021-05-17T17:33:10.810687Z",
     "iopub.status.idle": "2021-05-17T17:33:10.847314Z",
     "shell.execute_reply": "2021-05-17T17:33:10.846709Z"
    },
    "papermill": {
     "duration": 0.075284,
     "end_time": "2021-05-17T17:33:10.847443",
     "exception": false,
     "start_time": "2021-05-17T17:33:10.772159",
     "status": "completed"
    },
    "tags": []
   },
   "outputs": [
    {
     "name": "stderr",
     "output_type": "stream",
     "text": [
      "[Parallel(n_jobs=1)]: Using backend SequentialBackend with 1 concurrent workers.\n",
      "[Parallel(n_jobs=1)]: Done   1 out of   1 | elapsed:    0.0s remaining:    0.0s\n",
      "[Parallel(n_jobs=1)]: Done   4 out of   4 | elapsed:    0.0s finished\n",
      "\n",
      "[2021-05-17 17:33:10] Features: 1/3 -- score: 0.9666666666666667[Parallel(n_jobs=1)]: Using backend SequentialBackend with 1 concurrent workers.\n",
      "[Parallel(n_jobs=1)]: Done   1 out of   1 | elapsed:    0.0s remaining:    0.0s\n",
      "[Parallel(n_jobs=1)]: Done   3 out of   3 | elapsed:    0.0s finished\n",
      "\n",
      "[2021-05-17 17:33:10] Features: 2/3 -- score: 0.9666666666666667[Parallel(n_jobs=1)]: Using backend SequentialBackend with 1 concurrent workers.\n",
      "[Parallel(n_jobs=1)]: Done   1 out of   1 | elapsed:    0.0s remaining:    0.0s\n",
      "[Parallel(n_jobs=1)]: Done   2 out of   2 | elapsed:    0.0s finished\n",
      "\n",
      "[2021-05-17 17:33:10] Features: 3/3 -- score: 0.9666666666666667"
     ]
    }
   ],
   "source": [
    "from sklearn.neighbors import KNeighborsClassifier\n",
    "from mlxtend.feature_selection import SequentialFeatureSelector as SFS\n",
    "\n",
    "\n",
    "\n",
    "knn = KNeighborsClassifier(n_neighbors=4)\n",
    "piter = PredefinedHoldoutSplit(my_validation_indices)\n",
    "\n",
    "sfs1 = SFS(knn, \n",
    "           k_features=3, \n",
    "           forward=True, \n",
    "           floating=False, \n",
    "           verbose=2,\n",
    "           scoring='accuracy',\n",
    "           cv=piter)\n",
    "\n",
    "sfs1 = sfs1.fit(X, y)"
   ]
  },
  {
   "cell_type": "markdown",
   "id": "enormous-translator",
   "metadata": {
    "papermill": {
     "duration": 0.02928,
     "end_time": "2021-05-17T17:33:10.906475",
     "exception": false,
     "start_time": "2021-05-17T17:33:10.877195",
     "status": "completed"
    },
    "tags": []
   },
   "source": [
    "# Example 7 - Using the Selected Feature Subset For Making New Predictions"
   ]
  },
  {
   "cell_type": "code",
   "execution_count": 16,
   "id": "julian-noise",
   "metadata": {
    "execution": {
     "iopub.execute_input": "2021-05-17T17:33:10.976251Z",
     "iopub.status.busy": "2021-05-17T17:33:10.975197Z",
     "iopub.status.idle": "2021-05-17T17:33:10.979887Z",
     "shell.execute_reply": "2021-05-17T17:33:10.979324Z"
    },
    "papermill": {
     "duration": 0.043284,
     "end_time": "2021-05-17T17:33:10.980028",
     "exception": false,
     "start_time": "2021-05-17T17:33:10.936744",
     "status": "completed"
    },
    "tags": []
   },
   "outputs": [],
   "source": [
    "# Initialize the dataset\n",
    "\n",
    "from sklearn.neighbors import KNeighborsClassifier\n",
    "from sklearn.datasets import load_iris\n",
    "from sklearn.model_selection import train_test_split\n",
    "\n",
    "iris = load_iris()\n",
    "X, y = iris.data, iris.target\n",
    "X_train, X_test, y_train, y_test = train_test_split(\n",
    "         X, y, test_size=0.33, random_state=1)\n",
    "\n",
    "knn = KNeighborsClassifier(n_neighbors=4)"
   ]
  },
  {
   "cell_type": "code",
   "execution_count": 17,
   "id": "historic-editing",
   "metadata": {
    "execution": {
     "iopub.execute_input": "2021-05-17T17:33:11.047804Z",
     "iopub.status.busy": "2021-05-17T17:33:11.047016Z",
     "iopub.status.idle": "2021-05-17T17:33:11.174000Z",
     "shell.execute_reply": "2021-05-17T17:33:11.174491Z"
    },
    "papermill": {
     "duration": 0.164397,
     "end_time": "2021-05-17T17:33:11.174679",
     "exception": false,
     "start_time": "2021-05-17T17:33:11.010282",
     "status": "completed"
    },
    "tags": []
   },
   "outputs": [
    {
     "name": "stdout",
     "output_type": "stream",
     "text": [
      "Selected features: (1, 2, 3)\n"
     ]
    }
   ],
   "source": [
    "# Select the \"best\" three features via\n",
    "# 5-fold cross-validation on the training set.\n",
    "\n",
    "from mlxtend.feature_selection import SequentialFeatureSelector as SFS\n",
    "\n",
    "sfs1 = SFS(knn, \n",
    "           k_features=3, \n",
    "           forward=True, \n",
    "           floating=False, \n",
    "           scoring='accuracy',\n",
    "           cv=5)\n",
    "sfs1 = sfs1.fit(X_train, y_train)\n",
    "print('Selected features:', sfs1.k_feature_idx_)"
   ]
  },
  {
   "cell_type": "code",
   "execution_count": 18,
   "id": "italic-generic",
   "metadata": {
    "execution": {
     "iopub.execute_input": "2021-05-17T17:33:11.243183Z",
     "iopub.status.busy": "2021-05-17T17:33:11.242306Z",
     "iopub.status.idle": "2021-05-17T17:33:11.249532Z",
     "shell.execute_reply": "2021-05-17T17:33:11.249024Z"
    },
    "papermill": {
     "duration": 0.044813,
     "end_time": "2021-05-17T17:33:11.249678",
     "exception": false,
     "start_time": "2021-05-17T17:33:11.204865",
     "status": "completed"
    },
    "tags": []
   },
   "outputs": [
    {
     "name": "stdout",
     "output_type": "stream",
     "text": [
      "Test set accuracy: 96.00 %\n"
     ]
    }
   ],
   "source": [
    "# generate the new subsets based on the selected features\n",
    "# note that the transform call is equivalent to X_train[:, sfs1.k_feature_idx_]\n",
    "\n",
    "X_train_sfs = sfs1.transform(X_train)\n",
    "X_test_sfs = sfs1.transform(X_test)\n",
    "\n",
    "# Fit the estimator using the new feature subset\n",
    "# and make a prediction on the test data\n",
    "knn.fit(X_train_sfs, y_train)\n",
    "y_pred = knn.predict(X_test_sfs)\n",
    "\n",
    "# Compute the accuracy of the prediction\n",
    "acc = float((y_test == y_pred).sum()) / y_pred.shape[0]\n",
    "print('Test set accuracy: %.2f %%' % (acc * 100))"
   ]
  }
 ],
 "metadata": {
  "kernelspec": {
   "display_name": "Python 3",
   "language": "python",
   "name": "python3"
  },
  "language_info": {
   "codemirror_mode": {
    "name": "ipython",
    "version": 3
   },
   "file_extension": ".py",
   "mimetype": "text/x-python",
   "name": "python",
   "nbconvert_exporter": "python",
   "pygments_lexer": "ipython3",
   "version": "3.7.9"
  },
  "papermill": {
   "default_parameters": {},
   "duration": 14.003729,
   "end_time": "2021-05-17T17:33:12.089905",
   "environment_variables": {},
   "exception": null,
   "input_path": "__notebook__.ipynb",
   "output_path": "__notebook__.ipynb",
   "parameters": {},
   "start_time": "2021-05-17T17:32:58.086176",
   "version": "2.3.2"
  }
 },
 "nbformat": 4,
 "nbformat_minor": 5
}
